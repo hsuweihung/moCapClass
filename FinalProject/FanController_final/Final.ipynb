{
 "cells": [
  {
   "cell_type": "markdown",
   "metadata": {},
   "source": [
    "# Gesture"
   ]
  },
  {
   "cell_type": "code",
   "execution_count": 18,
   "metadata": {},
   "outputs": [
    {
     "ename": "KeyboardInterrupt",
     "evalue": "",
     "output_type": "error",
     "traceback": [
      "\u001b[0;31m---------------------------------------------------------------------------\u001b[0m",
      "\u001b[0;31mKeyboardInterrupt\u001b[0m                         Traceback (most recent call last)",
      "Cell \u001b[0;32mIn[18], line 65\u001b[0m\n\u001b[1;32m     62\u001b[0m         ser\u001b[38;5;241m.\u001b[39mclose()\n\u001b[1;32m     64\u001b[0m \u001b[38;5;28;01mif\u001b[39;00m \u001b[38;5;18m__name__\u001b[39m \u001b[38;5;241m==\u001b[39m \u001b[38;5;124m\"\u001b[39m\u001b[38;5;124m__main__\u001b[39m\u001b[38;5;124m\"\u001b[39m:\n\u001b[0;32m---> 65\u001b[0m     main()\n",
      "Cell \u001b[0;32mIn[18], line 57\u001b[0m, in \u001b[0;36mmain\u001b[0;34m()\u001b[0m\n\u001b[1;32m     54\u001b[0m                 cv2\u001b[38;5;241m.\u001b[39mputText(img, \u001b[38;5;124mf\u001b[39m\u001b[38;5;124m'\u001b[39m\u001b[38;5;132;01m{\u001b[39;00mdisplay_hand_type\u001b[38;5;132;01m}\u001b[39;00m\u001b[38;5;124m Hand, Fingers: \u001b[39m\u001b[38;5;132;01m{\u001b[39;00mfingers_open\u001b[38;5;132;01m}\u001b[39;00m\u001b[38;5;124m'\u001b[39m, (\u001b[38;5;241m10\u001b[39m, \u001b[38;5;241m70\u001b[39m), cv2\u001b[38;5;241m.\u001b[39mFONT_HERSHEY_PLAIN, \u001b[38;5;241m3\u001b[39m, (\u001b[38;5;241m255\u001b[39m, \u001b[38;5;241m0\u001b[39m, \u001b[38;5;241m255\u001b[39m), \u001b[38;5;241m3\u001b[39m)\n\u001b[1;32m     56\u001b[0m         cv2\u001b[38;5;241m.\u001b[39mimshow(\u001b[38;5;124m\"\u001b[39m\u001b[38;5;124mImage\u001b[39m\u001b[38;5;124m\"\u001b[39m, img)\n\u001b[0;32m---> 57\u001b[0m         \u001b[38;5;28;01mif\u001b[39;00m cv2\u001b[38;5;241m.\u001b[39mwaitKey(\u001b[38;5;241m1\u001b[39m) \u001b[38;5;241m&\u001b[39m \u001b[38;5;241m0xFF\u001b[39m \u001b[38;5;241m==\u001b[39m \u001b[38;5;28mord\u001b[39m(\u001b[38;5;124m'\u001b[39m\u001b[38;5;124mq\u001b[39m\u001b[38;5;124m'\u001b[39m):\n\u001b[1;32m     58\u001b[0m             \u001b[38;5;28;01mbreak\u001b[39;00m\n\u001b[1;32m     59\u001b[0m \u001b[38;5;28;01mfinally\u001b[39;00m:\n",
      "\u001b[0;31mKeyboardInterrupt\u001b[0m: "
     ]
    }
   ],
   "source": [
    "import cv2\n",
    "import serial\n",
    "import mediapipe as mp\n",
    "\n",
    "# Initialize MediaPipe hand model\n",
    "mpHands = mp.solutions.hands\n",
    "hands = mpHands.Hands(static_image_mode=False, max_num_hands=1, min_detection_confidence=0.5)\n",
    "mpDraw = mp.solutions.drawing_utils\n",
    "\n",
    "# Initialize Serial Port\n",
    "ser = serial.Serial('/dev/cu.usbserial-140', 9600, timeout=1)\n",
    "\n",
    "def control_fan(hand_landmarks, hand_type):\n",
    "    fingers_open = 0\n",
    "\n",
    "    # Check if each finger is open\n",
    "    # Adjust thumb detection based on hand type (left or right)\n",
    "    if hand_type == 'Right':\n",
    "        if hand_landmarks.landmark[mpHands.HandLandmark.THUMB_TIP].x < hand_landmarks.landmark[mpHands.HandLandmark.THUMB_IP].x:\n",
    "            fingers_open += 1\n",
    "    else:  # Left hand\n",
    "        if hand_landmarks.landmark[mpHands.HandLandmark.THUMB_TIP].x > hand_landmarks.landmark[mpHands.HandLandmark.THUMB_IP].x:\n",
    "            fingers_open += 1\n",
    "\n",
    "    # Other fingers\n",
    "    for finger in [mpHands.HandLandmark.INDEX_FINGER_TIP, mpHands.HandLandmark.MIDDLE_FINGER_TIP, mpHands.HandLandmark.RING_FINGER_TIP, mpHands.HandLandmark.PINKY_TIP]:\n",
    "        if hand_landmarks.landmark[finger].y < hand_landmarks.landmark[finger - 2].y:\n",
    "            fingers_open += 1\n",
    "\n",
    "    ser.write(str(fingers_open).encode())\n",
    "    return fingers_open\n",
    "\n",
    "def main():\n",
    "    cap = cv2.VideoCapture(0)\n",
    "\n",
    "    try:\n",
    "        while cap.isOpened():\n",
    "            ret, img = cap.read()\n",
    "            if not ret:\n",
    "                continue\n",
    "\n",
    "            imgRGB = cv2.cvtColor(img, cv2.COLOR_BGR2RGB)\n",
    "            results = hands.process(imgRGB)\n",
    "\n",
    "            if results.multi_hand_landmarks:\n",
    "                for handLms, handInfo in zip(results.multi_hand_landmarks, results.multi_handedness):\n",
    "                    handType = handInfo.classification[0].label  # Get hand type (left or right)\n",
    "                    mpDraw.draw_landmarks(img, handLms, mpHands.HAND_CONNECTIONS)\n",
    "                    fingers_open = control_fan(handLms, handType)\n",
    "\n",
    "                    # Swap left and right labels\n",
    "                    display_hand_type = 'Right' if handType == 'Left' else 'Left'\n",
    "\n",
    "                    cv2.putText(img, f'{display_hand_type} Hand, Fingers: {fingers_open}', (10, 70), cv2.FONT_HERSHEY_PLAIN, 3, (255, 0, 255), 3)\n",
    "\n",
    "            cv2.imshow(\"Image\", img)\n",
    "            if cv2.waitKey(1) & 0xFF == ord('q'):\n",
    "                break\n",
    "    finally:\n",
    "        cap.release()\n",
    "        cv2.destroyAllWindows()\n",
    "        ser.close()\n",
    "\n",
    "if __name__ == \"__main__\":\n",
    "    main()\n",
    "\n"
   ]
  }
 ],
 "metadata": {
  "kernelspec": {
   "display_name": "Python 3 (ipykernel)",
   "language": "python",
   "name": "python3"
  },
  "language_info": {
   "codemirror_mode": {
    "name": "ipython",
    "version": 3
   },
   "file_extension": ".py",
   "mimetype": "text/x-python",
   "name": "python",
   "nbconvert_exporter": "python",
   "pygments_lexer": "ipython3",
   "version": "3.11.5"
  }
 },
 "nbformat": 4,
 "nbformat_minor": 4
}
